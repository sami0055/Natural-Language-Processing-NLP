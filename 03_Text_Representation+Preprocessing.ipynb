{
  "metadata": {
    "kernelspec": {
      "language": "python",
      "display_name": "Python 3",
      "name": "python3"
    },
    "language_info": {
      "name": "python",
      "version": "3.10.13",
      "mimetype": "text/x-python",
      "codemirror_mode": {
        "name": "ipython",
        "version": 3
      },
      "pygments_lexer": "ipython3",
      "nbconvert_exporter": "python",
      "file_extension": ".py"
    },
    "kaggle": {
      "accelerator": "none",
      "dataSources": [
        {
          "sourceId": 320111,
          "sourceType": "datasetVersion",
          "datasetId": 134715
        }
      ],
      "dockerImageVersionId": 30746,
      "isInternetEnabled": false,
      "language": "python",
      "sourceType": "notebook",
      "isGpuEnabled": false
    },
    "colab": {
      "name": "sentiment",
      "provenance": []
    }
  },
  "nbformat_minor": 0,
  "nbformat": 4,
  "cells": [
    {
      "source": [
        "\n",
        "# IMPORTANT: RUN THIS CELL IN ORDER TO IMPORT YOUR KAGGLE DATA SOURCES\n",
        "# TO THE CORRECT LOCATION (/kaggle/input) IN YOUR NOTEBOOK,\n",
        "# THEN FEEL FREE TO DELETE THIS CELL.\n",
        "# NOTE: THIS NOTEBOOK ENVIRONMENT DIFFERS FROM KAGGLE'S PYTHON\n",
        "# ENVIRONMENT SO THERE MAY BE MISSING LIBRARIES USED BY YOUR\n",
        "# NOTEBOOK.\n",
        "\n",
        "import os\n",
        "import sys\n",
        "from tempfile import NamedTemporaryFile\n",
        "from urllib.request import urlopen\n",
        "from urllib.parse import unquote, urlparse\n",
        "from urllib.error import HTTPError\n",
        "from zipfile import ZipFile\n",
        "import tarfile\n",
        "import shutil\n",
        "\n",
        "CHUNK_SIZE = 40960\n",
        "DATA_SOURCE_MAPPING = 'imdb-dataset-of-50k-movie-reviews:https%3A%2F%2Fstorage.googleapis.com%2Fkaggle-data-sets%2F134715%2F320111%2Fbundle%2Farchive.zip%3FX-Goog-Algorithm%3DGOOG4-RSA-SHA256%26X-Goog-Credential%3Dgcp-kaggle-com%2540kaggle-161607.iam.gserviceaccount.com%252F20240726%252Fauto%252Fstorage%252Fgoog4_request%26X-Goog-Date%3D20240726T163846Z%26X-Goog-Expires%3D259200%26X-Goog-SignedHeaders%3Dhost%26X-Goog-Signature%3D8fecbc735cb36f8cf328a6577fcc36362a6baed1e90371bd3b5e1f8f781ddfb16319baebe038bbf5b2831eb5bfb35a301a661d9a37962068142ab09554d6c6e36c8469096936307761a887fe8c85b5b4803b61b5f6416703fd267f56b6b6d82ba2a5a36f970cb67078ff510ca7993ceca21f6e20ff2ba877fd9e63f7b79d877e1a2044baa3766b3d8f59a523e9ed64586ff367058b2f9fc02932d0b56cd0efc9113d1fb78bb6693fb019ee8979c9c51b98cdaf0fc94278b476b8677369c6382ecf67f18d21c85a21062eb25be7ea842fbe455bbd3b361ce6218d00857841e47e7a99ad28b03b888709da9a27ba39168ec48a899648bb23fb1543f2e17f213d63'\n",
        "\n",
        "KAGGLE_INPUT_PATH='/kaggle/input'\n",
        "KAGGLE_WORKING_PATH='/kaggle/working'\n",
        "KAGGLE_SYMLINK='kaggle'\n",
        "\n",
        "!umount /kaggle/input/ 2> /dev/null\n",
        "shutil.rmtree('/kaggle/input', ignore_errors=True)\n",
        "os.makedirs(KAGGLE_INPUT_PATH, 0o777, exist_ok=True)\n",
        "os.makedirs(KAGGLE_WORKING_PATH, 0o777, exist_ok=True)\n",
        "\n",
        "try:\n",
        "  os.symlink(KAGGLE_INPUT_PATH, os.path.join(\"..\", 'input'), target_is_directory=True)\n",
        "except FileExistsError:\n",
        "  pass\n",
        "try:\n",
        "  os.symlink(KAGGLE_WORKING_PATH, os.path.join(\"..\", 'working'), target_is_directory=True)\n",
        "except FileExistsError:\n",
        "  pass\n",
        "\n",
        "for data_source_mapping in DATA_SOURCE_MAPPING.split(','):\n",
        "    directory, download_url_encoded = data_source_mapping.split(':')\n",
        "    download_url = unquote(download_url_encoded)\n",
        "    filename = urlparse(download_url).path\n",
        "    destination_path = os.path.join(KAGGLE_INPUT_PATH, directory)\n",
        "    try:\n",
        "        with urlopen(download_url) as fileres, NamedTemporaryFile() as tfile:\n",
        "            total_length = fileres.headers['content-length']\n",
        "            print(f'Downloading {directory}, {total_length} bytes compressed')\n",
        "            dl = 0\n",
        "            data = fileres.read(CHUNK_SIZE)\n",
        "            while len(data) > 0:\n",
        "                dl += len(data)\n",
        "                tfile.write(data)\n",
        "                done = int(50 * dl / int(total_length))\n",
        "                sys.stdout.write(f\"\\r[{'=' * done}{' ' * (50-done)}] {dl} bytes downloaded\")\n",
        "                sys.stdout.flush()\n",
        "                data = fileres.read(CHUNK_SIZE)\n",
        "            if filename.endswith('.zip'):\n",
        "              with ZipFile(tfile) as zfile:\n",
        "                zfile.extractall(destination_path)\n",
        "            else:\n",
        "              with tarfile.open(tfile.name) as tarfile:\n",
        "                tarfile.extractall(destination_path)\n",
        "            print(f'\\nDownloaded and uncompressed: {directory}')\n",
        "    except HTTPError as e:\n",
        "        print(f'Failed to load (likely expired) {download_url} to path {destination_path}')\n",
        "        continue\n",
        "    except OSError as e:\n",
        "        print(f'Failed to load {download_url} to path {destination_path}')\n",
        "        continue\n",
        "\n",
        "print('Data source import complete.')\n"
      ],
      "metadata": {
        "id": "4edE6ROqII4j"
      },
      "cell_type": "code",
      "outputs": [],
      "execution_count": null
    },
    {
      "cell_type": "code",
      "source": [
        "# This Python 3 environment comes with many helpful analytics libraries installed\n",
        "# It is defined by the kaggle/python Docker image: https://github.com/kaggle/docker-python\n",
        "# For example, here's several helpful packages to load\n",
        "\n",
        "import numpy as np # linear algebra\n",
        "import pandas as pd # data processing, CSV file I/O (e.g. pd.read_csv)\n",
        "from sklearn.model_selection import train_test_split\n",
        "from tensorflow.keras.models import Sequential\n",
        "from tensorflow.keras.layers import Dense, Embedding, LSTM, Input\n",
        "from tensorflow.keras.preprocessing.text import Tokenizer\n",
        "from tensorflow.keras.preprocessing.sequence import pad_sequences\n",
        "# Input data files are available in the read-only \"../input/\" directory\n",
        "# For example, running this (by clicking run or pressing Shift+Enter) will list all files under the input directory\n",
        "\n",
        "import os\n",
        "for dirname, _, filenames in os.walk('/kaggle/input'):\n",
        "    for filename in filenames:\n",
        "        print(os.path.join(dirname, filename))\n",
        "\n",
        "# You can write up to 20GB to the current directory (/kaggle/working/) that gets preserved as output when you create a version using \"Save & Run All\"\n",
        "# You can also write temporary files to /kaggle/temp/, but they won't be saved outside of the current session"
      ],
      "metadata": {
        "_uuid": "8f2839f25d086af736a60e9eeb907d3b93b6e0e5",
        "_cell_guid": "b1076dfc-b9ad-4769-8c92-a6c4dae69d19",
        "execution": {
          "iopub.status.busy": "2024-07-22T20:57:17.438001Z",
          "iopub.execute_input": "2024-07-22T20:57:17.438654Z",
          "iopub.status.idle": "2024-07-22T20:57:17.45367Z",
          "shell.execute_reply.started": "2024-07-22T20:57:17.438585Z",
          "shell.execute_reply": "2024-07-22T20:57:17.45218Z"
        },
        "trusted": true,
        "id": "xc2XGL6tII4m"
      },
      "execution_count": null,
      "outputs": []
    },
    {
      "cell_type": "code",
      "source": [
        "data = pd.read_csv(\"/kaggle/input/imdb-dataset-of-50k-movie-reviews/IMDB Dataset.csv\")"
      ],
      "metadata": {
        "execution": {
          "iopub.status.busy": "2024-07-22T20:09:54.800835Z",
          "iopub.execute_input": "2024-07-22T20:09:54.801632Z",
          "iopub.status.idle": "2024-07-22T20:09:56.430607Z",
          "shell.execute_reply.started": "2024-07-22T20:09:54.801575Z",
          "shell.execute_reply": "2024-07-22T20:09:56.429074Z"
        },
        "trusted": true,
        "id": "BBz0RGSxII4n"
      },
      "execution_count": null,
      "outputs": []
    },
    {
      "cell_type": "code",
      "source": [
        "data.head(10)"
      ],
      "metadata": {
        "execution": {
          "iopub.status.busy": "2024-07-22T20:10:01.524367Z",
          "iopub.execute_input": "2024-07-22T20:10:01.525441Z",
          "iopub.status.idle": "2024-07-22T20:10:01.548498Z",
          "shell.execute_reply.started": "2024-07-22T20:10:01.52538Z",
          "shell.execute_reply": "2024-07-22T20:10:01.54708Z"
        },
        "trusted": true,
        "id": "ELJLMv7DII4n"
      },
      "execution_count": null,
      "outputs": []
    },
    {
      "cell_type": "code",
      "source": [
        "data.shape"
      ],
      "metadata": {
        "execution": {
          "iopub.status.busy": "2024-07-22T20:10:19.604057Z",
          "iopub.execute_input": "2024-07-22T20:10:19.604454Z",
          "iopub.status.idle": "2024-07-22T20:10:19.613548Z",
          "shell.execute_reply.started": "2024-07-22T20:10:19.604424Z",
          "shell.execute_reply": "2024-07-22T20:10:19.612061Z"
        },
        "trusted": true,
        "id": "fJBRxQK5II4o"
      },
      "execution_count": null,
      "outputs": []
    },
    {
      "cell_type": "code",
      "source": [
        "data[\"sentiment\"].value_counts()"
      ],
      "metadata": {
        "execution": {
          "iopub.status.busy": "2024-07-22T20:10:56.412333Z",
          "iopub.execute_input": "2024-07-22T20:10:56.413118Z",
          "iopub.status.idle": "2024-07-22T20:10:56.434972Z",
          "shell.execute_reply.started": "2024-07-22T20:10:56.413067Z",
          "shell.execute_reply": "2024-07-22T20:10:56.433406Z"
        },
        "trusted": true,
        "id": "Nin5qkegII4o"
      },
      "execution_count": null,
      "outputs": []
    },
    {
      "cell_type": "code",
      "source": [
        "data.isnull().sum()"
      ],
      "metadata": {
        "execution": {
          "iopub.status.busy": "2024-07-22T20:40:44.144582Z",
          "iopub.execute_input": "2024-07-22T20:40:44.145296Z",
          "iopub.status.idle": "2024-07-22T20:40:44.173916Z",
          "shell.execute_reply.started": "2024-07-22T20:40:44.145254Z",
          "shell.execute_reply": "2024-07-22T20:40:44.172326Z"
        },
        "trusted": true,
        "id": "hFPtrlNwII4o"
      },
      "execution_count": null,
      "outputs": []
    },
    {
      "cell_type": "code",
      "source": [
        "data['sentiment'] = data['sentiment'].map({'positive': 1, 'negative': 0})"
      ],
      "metadata": {
        "execution": {
          "iopub.status.busy": "2024-07-22T20:45:53.129395Z",
          "iopub.execute_input": "2024-07-22T20:45:53.12982Z",
          "iopub.status.idle": "2024-07-22T20:45:53.147583Z",
          "shell.execute_reply.started": "2024-07-22T20:45:53.12979Z",
          "shell.execute_reply": "2024-07-22T20:45:53.145837Z"
        },
        "trusted": true,
        "id": "yuKpKTFZII4p"
      },
      "execution_count": null,
      "outputs": []
    },
    {
      "cell_type": "code",
      "source": [
        "data.head()"
      ],
      "metadata": {
        "execution": {
          "iopub.status.busy": "2024-07-22T20:45:58.958183Z",
          "iopub.execute_input": "2024-07-22T20:45:58.958599Z",
          "iopub.status.idle": "2024-07-22T20:45:58.973311Z",
          "shell.execute_reply.started": "2024-07-22T20:45:58.958567Z",
          "shell.execute_reply": "2024-07-22T20:45:58.971565Z"
        },
        "trusted": true,
        "id": "WfLcgsAmII4p"
      },
      "execution_count": null,
      "outputs": []
    },
    {
      "cell_type": "code",
      "source": [
        "train_data, test_data = train_test_split(data, test_size=0.2, random_state=42)"
      ],
      "metadata": {
        "execution": {
          "iopub.status.busy": "2024-07-22T20:47:53.579411Z",
          "iopub.execute_input": "2024-07-22T20:47:53.579832Z",
          "iopub.status.idle": "2024-07-22T20:47:53.599554Z",
          "shell.execute_reply.started": "2024-07-22T20:47:53.5798Z",
          "shell.execute_reply": "2024-07-22T20:47:53.598472Z"
        },
        "trusted": true,
        "id": "VCoeo4t-II4q"
      },
      "execution_count": null,
      "outputs": []
    },
    {
      "cell_type": "code",
      "source": [
        "print(train_data.shape)\n",
        "print(test_data.shape)"
      ],
      "metadata": {
        "execution": {
          "iopub.status.busy": "2024-07-22T20:48:15.517978Z",
          "iopub.execute_input": "2024-07-22T20:48:15.518385Z",
          "iopub.status.idle": "2024-07-22T20:48:15.52495Z",
          "shell.execute_reply.started": "2024-07-22T20:48:15.518353Z",
          "shell.execute_reply": "2024-07-22T20:48:15.523561Z"
        },
        "trusted": true,
        "id": "98wiEPJ6II4q"
      },
      "execution_count": null,
      "outputs": []
    },
    {
      "cell_type": "code",
      "source": [
        "data.tail()"
      ],
      "metadata": {
        "execution": {
          "iopub.status.busy": "2024-07-22T20:48:25.552278Z",
          "iopub.execute_input": "2024-07-22T20:48:25.552858Z",
          "iopub.status.idle": "2024-07-22T20:48:25.564568Z",
          "shell.execute_reply.started": "2024-07-22T20:48:25.552817Z",
          "shell.execute_reply": "2024-07-22T20:48:25.563285Z"
        },
        "trusted": true,
        "id": "qO6J57LiII4q"
      },
      "execution_count": null,
      "outputs": []
    },
    {
      "cell_type": "code",
      "source": [
        "tokenizer = Tokenizer(num_words=5000)\n",
        "tokenizer.fit_on_texts(train_data[\"review\"])\n",
        "X_train = pad_sequences(tokenizer.texts_to_sequences(train_data[\"review\"]), maxlen=200)\n",
        "X_test = pad_sequences(tokenizer.texts_to_sequences(test_data[\"review\"]), maxlen=200)"
      ],
      "metadata": {
        "execution": {
          "iopub.status.busy": "2024-07-22T20:49:53.353988Z",
          "iopub.execute_input": "2024-07-22T20:49:53.354409Z",
          "iopub.status.idle": "2024-07-22T20:50:13.17246Z",
          "shell.execute_reply.started": "2024-07-22T20:49:53.354376Z",
          "shell.execute_reply": "2024-07-22T20:50:13.170879Z"
        },
        "trusted": true,
        "id": "X1PerrqhII4r"
      },
      "execution_count": null,
      "outputs": []
    },
    {
      "cell_type": "code",
      "source": [
        "print(X_train)"
      ],
      "metadata": {
        "execution": {
          "iopub.status.busy": "2024-07-22T20:50:52.844124Z",
          "iopub.execute_input": "2024-07-22T20:50:52.844553Z",
          "iopub.status.idle": "2024-07-22T20:50:52.851233Z",
          "shell.execute_reply.started": "2024-07-22T20:50:52.844519Z",
          "shell.execute_reply": "2024-07-22T20:50:52.849973Z"
        },
        "trusted": true,
        "id": "PEqKZi-pII4r"
      },
      "execution_count": null,
      "outputs": []
    },
    {
      "cell_type": "code",
      "source": [
        "print(X_test)"
      ],
      "metadata": {
        "execution": {
          "iopub.status.busy": "2024-07-22T20:50:55.437375Z",
          "iopub.execute_input": "2024-07-22T20:50:55.437773Z",
          "iopub.status.idle": "2024-07-22T20:50:55.445439Z",
          "shell.execute_reply.started": "2024-07-22T20:50:55.437742Z",
          "shell.execute_reply": "2024-07-22T20:50:55.443831Z"
        },
        "trusted": true,
        "id": "9iX-2lrpII4r"
      },
      "execution_count": null,
      "outputs": []
    },
    {
      "cell_type": "code",
      "source": [
        "Y_train = train_data[\"sentiment\"]\n",
        "Y_test = test_data[\"sentiment\"]"
      ],
      "metadata": {
        "execution": {
          "iopub.status.busy": "2024-07-22T20:59:42.559982Z",
          "iopub.execute_input": "2024-07-22T20:59:42.56056Z",
          "iopub.status.idle": "2024-07-22T20:59:42.56747Z",
          "shell.execute_reply.started": "2024-07-22T20:59:42.560519Z",
          "shell.execute_reply": "2024-07-22T20:59:42.566247Z"
        },
        "trusted": true,
        "id": "DSIeqXKPII4r"
      },
      "execution_count": null,
      "outputs": []
    },
    {
      "cell_type": "code",
      "source": [
        "model = Sequential()\n",
        "model.add(Input(shape=(200,)))\n",
        "model.add(Embedding(input_dim=5000, output_dim=128))\n",
        "model.add(LSTM(128, dropout=0.2, recurrent_dropout=0.2))\n",
        "model.add(Dense(1, activation=\"sigmoid\"))"
      ],
      "metadata": {
        "execution": {
          "iopub.status.busy": "2024-07-22T20:57:21.069028Z",
          "iopub.execute_input": "2024-07-22T20:57:21.06945Z",
          "iopub.status.idle": "2024-07-22T20:57:21.142101Z",
          "shell.execute_reply.started": "2024-07-22T20:57:21.069415Z",
          "shell.execute_reply": "2024-07-22T20:57:21.140282Z"
        },
        "trusted": true,
        "id": "_tKFMI__II4r"
      },
      "execution_count": null,
      "outputs": []
    },
    {
      "cell_type": "code",
      "source": [
        "model.summary()"
      ],
      "metadata": {
        "execution": {
          "iopub.status.busy": "2024-07-22T20:58:11.489801Z",
          "iopub.execute_input": "2024-07-22T20:58:11.490188Z",
          "iopub.status.idle": "2024-07-22T20:58:11.521272Z",
          "shell.execute_reply.started": "2024-07-22T20:58:11.490158Z",
          "shell.execute_reply": "2024-07-22T20:58:11.519256Z"
        },
        "trusted": true,
        "id": "o-E-XzvgII4r"
      },
      "execution_count": null,
      "outputs": []
    },
    {
      "cell_type": "code",
      "source": [
        "model.compile(optimizer=\"adam\", loss=\"binary_crossentropy\", metrics=[\"accuracy\"])"
      ],
      "metadata": {
        "execution": {
          "iopub.status.busy": "2024-07-22T20:58:47.710489Z",
          "iopub.execute_input": "2024-07-22T20:58:47.710998Z",
          "iopub.status.idle": "2024-07-22T20:58:47.731767Z",
          "shell.execute_reply.started": "2024-07-22T20:58:47.710963Z",
          "shell.execute_reply": "2024-07-22T20:58:47.730404Z"
        },
        "trusted": true,
        "id": "7uMq9dyiII4s"
      },
      "execution_count": null,
      "outputs": []
    },
    {
      "cell_type": "code",
      "source": [
        "model.fit(X_train, Y_train, epochs=5, batch_size=64, validation_split=0.2)"
      ],
      "metadata": {
        "execution": {
          "iopub.status.busy": "2024-07-22T20:59:45.943673Z",
          "iopub.execute_input": "2024-07-22T20:59:45.944135Z",
          "iopub.status.idle": "2024-07-22T21:12:49.153478Z",
          "shell.execute_reply.started": "2024-07-22T20:59:45.944101Z",
          "shell.execute_reply": "2024-07-22T21:12:49.151705Z"
        },
        "trusted": true,
        "id": "K-xZyCLXII4s"
      },
      "execution_count": null,
      "outputs": []
    },
    {
      "cell_type": "code",
      "source": [
        "loss, accuracy = model.evaluate(X_test, Y_test)\n",
        "print(f\"Test Loss: {loss}\")\n",
        "print(f\"Test Accuracy: {accuracy}\")"
      ],
      "metadata": {
        "execution": {
          "iopub.status.busy": "2024-07-22T21:14:50.941673Z",
          "iopub.execute_input": "2024-07-22T21:14:50.942101Z",
          "iopub.status.idle": "2024-07-22T21:15:32.333526Z",
          "shell.execute_reply.started": "2024-07-22T21:14:50.942069Z",
          "shell.execute_reply": "2024-07-22T21:15:32.331739Z"
        },
        "trusted": true,
        "id": "IKkz-yDpII4s"
      },
      "execution_count": null,
      "outputs": []
    },
    {
      "cell_type": "code",
      "source": [
        "def predict_sentiment(review):\n",
        "  sequence = tokenizer.texts_to_sequences([review])\n",
        "  padded_sequence = pad_sequences(sequence, maxlen=200)\n",
        "  prediction = model.predict(padded_sequence)\n",
        "  sentiment = \"positive\" if prediction[0][0] > 0.5 else \"negative\"\n",
        "  return sentiment"
      ],
      "metadata": {
        "execution": {
          "iopub.status.busy": "2024-07-22T21:17:46.819246Z",
          "iopub.execute_input": "2024-07-22T21:17:46.819689Z",
          "iopub.status.idle": "2024-07-22T21:17:46.827323Z",
          "shell.execute_reply.started": "2024-07-22T21:17:46.819656Z",
          "shell.execute_reply": "2024-07-22T21:17:46.825701Z"
        },
        "trusted": true,
        "id": "P5woDFQLII4s"
      },
      "execution_count": null,
      "outputs": []
    },
    {
      "cell_type": "code",
      "source": [
        "new_review = \"This movie was the best in my life\"\n",
        "sentiment = predict_sentiment(new_review)\n",
        "print(f\"The result of sentiment: {sentiment}\")"
      ],
      "metadata": {
        "execution": {
          "iopub.status.busy": "2024-07-22T21:22:22.128131Z",
          "iopub.execute_input": "2024-07-22T21:22:22.128503Z",
          "iopub.status.idle": "2024-07-22T21:22:22.252795Z",
          "shell.execute_reply.started": "2024-07-22T21:22:22.128474Z",
          "shell.execute_reply": "2024-07-22T21:22:22.251132Z"
        },
        "trusted": true,
        "id": "Dr98I90DII4s"
      },
      "execution_count": null,
      "outputs": []
    },
    {
      "cell_type": "code",
      "source": [
        "new_review = \"I didn't like the movie very much, it could have been better\"\n",
        "sentiment = predict_sentiment(new_review)\n",
        "print(f\"The result of sentiment: {sentiment}\")"
      ],
      "metadata": {
        "execution": {
          "iopub.status.busy": "2024-07-22T21:22:20.468797Z",
          "iopub.execute_input": "2024-07-22T21:22:20.469638Z",
          "iopub.status.idle": "2024-07-22T21:22:20.611166Z",
          "shell.execute_reply.started": "2024-07-22T21:22:20.469586Z",
          "shell.execute_reply": "2024-07-22T21:22:20.61Z"
        },
        "trusted": true,
        "id": "VFHvs8DjII4t"
      },
      "execution_count": null,
      "outputs": []
    },
    {
      "cell_type": "code",
      "source": [
        "model.save(\"sentiment_model.keras\")"
      ],
      "metadata": {
        "execution": {
          "iopub.status.busy": "2024-07-22T21:28:10.57321Z",
          "iopub.execute_input": "2024-07-22T21:28:10.57371Z",
          "iopub.status.idle": "2024-07-22T21:28:10.806646Z",
          "shell.execute_reply.started": "2024-07-22T21:28:10.573673Z",
          "shell.execute_reply": "2024-07-22T21:28:10.804717Z"
        },
        "trusted": true,
        "id": "z6sYePQiII4t"
      },
      "execution_count": null,
      "outputs": []
    },
    {
      "cell_type": "code",
      "source": [
        "import pickle\n",
        "with open('tokenizer.pkl', 'wb') as handle:\n",
        "    pickle.dump(tokenizer, handle, protocol=pickle.HIGHEST_PROTOCOL)\n"
      ],
      "metadata": {
        "execution": {
          "iopub.status.busy": "2024-07-22T21:29:08.029041Z",
          "iopub.execute_input": "2024-07-22T21:29:08.03071Z",
          "iopub.status.idle": "2024-07-22T21:29:08.452118Z",
          "shell.execute_reply.started": "2024-07-22T21:29:08.030654Z",
          "shell.execute_reply": "2024-07-22T21:29:08.450707Z"
        },
        "trusted": true,
        "id": "M5Bw17JnII4t"
      },
      "execution_count": null,
      "outputs": []
    },
    {
      "cell_type": "code",
      "source": [],
      "metadata": {
        "id": "535zzY8-II4t"
      },
      "execution_count": null,
      "outputs": []
    }
  ]
}